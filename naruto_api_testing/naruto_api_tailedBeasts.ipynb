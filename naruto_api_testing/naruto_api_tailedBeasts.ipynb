{
 "cells": [
  {
   "cell_type": "code",
   "execution_count": 17,
   "metadata": {},
   "outputs": [
    {
     "name": "stdout",
     "output_type": "stream",
     "text": [
      "{'tailed-beasts': [{'id': 1, 'name': 'Ten-Tails', 'images': ['https://static.wikia.nocookie.net/naruto/images/e/e6/Ten-Tails_emerges.png'], 'debut': {'manga': 'Naruto Chapter #467', 'anime': 'Naruto Shippūden Episode #205', 'novel': 'The Last: Naruto the Movie', 'movie': 'The Last: Naruto the Movie', 'game': 'Naruto Shippūden: Ultimate Ninja Storm Revolution', 'ova': 'The Far Reaches of Hope', 'appearsIn': 'Anime, Manga, Novel, Game, Movie'}, 'family': {'incarnation with the god tree': 'Kaguya Ōtsutsuki', 'depowered form': 'Demonic Statue of the Outer Path'}, 'jutsu': ['Six Paths Senjutsu', 'Tailed Beast Ball', 'Tailed Beast Chakra Arms', 'Tailed Beast Shockwave', 'Ten-Tails Fission', 'Tenpenchii', 'Truth-Seeking Ball', 'Wood Release: Cutting Technique'], 'natureType': ['Fire Release', 'Wind Release', 'Lightning Release', 'Earth Release', 'Water Release', 'Wood Release', 'Yin Release', 'Yang Release', 'Yin–Yang Release'], 'personal': {'status': 'Incapacitated', 'kekkeiGenkai': 'Wood Release', 'classification': 'Tailed Beast', 'jinchūriki': ['Hagoromo Ōtsutsuki', 'Obito Uchiha', 'Madara Uchiha'], 'titles': ['十尾Jūbi', 'one-eyedGod(天目一箇神,AmeNoHitotsuNoKami)', 'datara(ダタラ)', 'deidarabotchi(デイダラボッチ,Deidarabocchi)', 'nation-buildingGod(国造りの神,KunizukuriNoKami)']}, 'uniqueTraits': ['Can absorb chakra']}, {'id': 153, 'name': 'Chōmei', 'images': ['https://static.wikia.nocookie.net/naruto/images/7/78/Chomei.png'], 'debut': {'manga': 'Naruto Chapter #467', 'anime': 'Naruto Shippūden Episode #165', 'novel': 'The Last: Naruto the Movie', 'movie': 'The Last: Naruto the Movie', 'game': 'Naruto Shippūden: Ultimate Ninja Storm 3', 'appearsIn': 'Anime, Manga, Novel, Game, Movie'}, 'family': {'creator': 'Hagoromo Ōtsutsuki', 'sibling': 'Kurama'}, 'jutsu': ['Bug Bite', 'Chakra Transfer Technique', 'Cocoon (Anime only)', 'Spear Attack Shining Horn', 'Tailed Beast Ball', 'Tailed Beast Full Charge', 'Tailed Beast Telepathy'], 'personal': {'species': 'Kabutomushi', 'classification': 'Tailed Beast', 'jinchūriki': ['Fū', 'Naruto Uzumaki'], 'affiliation': 'Takigakure'}, 'voiceActors': {'japanese': 'Kenichi Suzumura', 'english': 'Steven Blum'}}, {'id': 345, 'name': 'Gyūki', 'images': ['https://static.wikia.nocookie.net/naruto/images/d/d7/Gyuki.png'], 'debut': {'manga': 'Naruto Chapter #413', 'anime': 'Naruto Shippūden Episode #143', 'novel': 'The Last: Naruto the Movie', 'movie': 'Naruto the Movie: Blood Prison', 'game': 'Naruto Shippūden: Ultimate Ninja Storm 2', 'appearsIn': 'Anime, Manga, Novel, Game, Movie'}, 'family': {'creator': 'Hagoromo Ōtsutsuki', 'sibling': 'Kurama'}, 'jutsu': ['The Springtime of Youth wiki has an article about this topic:', 'Eight-Tails'], 'personal': {'species': 'Ushi-oni', 'classification': 'Tailed Beast', 'jinchūriki': ['Blue B', 'Killer B', 'Obito Uchiha', 'Naruto Uzumaki'], 'affiliation': ['Kumogakure', 'Allied Shinobi Forces']}, 'uniqueTraits': ['Produces ink'], 'voiceActors': {'japanese': 'Masaki Aizawa', 'english': ['Matthew Mercer', 'Fred Tatasciore   (Naruto Shippūden: Ultimate Ninja Storm 3)']}}, {'id': 480, 'name': 'Isobu', 'images': ['https://static.wikia.nocookie.net/naruto/images/d/df/Isobu.png'], 'debut': {'manga': 'Naruto Chapter #317', 'anime': 'Naruto Shippūden Episode #92', 'novel': 'The Last: Naruto the Movie', 'movie': 'The Last: Naruto the Movie', 'game': 'Naruto Shippūden: Ninja Destiny 3', 'appearsIn': 'Anime, Manga, Novel, Game, Movie'}, 'family': {'creator': 'Hagoromo Ōtsutsuki', 'sibling': 'Kurama'}, 'jutsu': ['Chakra Transfer Technique', 'Coral Palm', 'Illusionary Mist (Anime only)', 'Leaping Bullet Shell Tower', 'Shadow Stroke', 'Tailed Beast Ball', 'Tailed Beast Full Charge', 'Tailed Beast Shockwave (Anime only)', 'Tailed Beast Telepathy', 'Three-Tails Mini Clone (Anime only)', 'Water Release: Great Water Mass Bullet (Anime only)'], 'natureType': ['Water Release', 'Yin Release  (Anime only)'], 'personal': {'species': 'Turtle', 'classification': 'Tailed Beast', 'jinchūriki': ['Rin Nohara', 'Yagura Karatachi', 'Naruto Uzumaki'], 'affiliation': 'Kirigakure'}, 'uniqueTraits': ['Produces Coral'], 'voiceActors': {'japanese': 'Shigenori Sōya', 'english': 'Chris Edgerly'}}, {'id': 669, 'name': 'Kokuō', 'images': ['https://static.wikia.nocookie.net/naruto/images/a/a3/Kokuo.png'], 'debut': {'manga': 'Naruto Chapter #467', 'anime': 'Naruto Shippūden Episode #165', 'novel': 'The Last: Naruto the Movie', 'movie': 'The Last: Naruto the Movie', 'game': 'Naruto Shippūden: Ultimate Ninja Storm 3', 'appearsIn': 'Anime, Manga, Novel, Game, Movie'}, 'family': {'creator': 'Hagoromo Ōtsutsuki', 'sibling': 'Kurama'}, 'jutsu': ['Boil Release: Unrivalled Strength', 'Chakra Transfer Technique', 'Horn Breaking', 'Tailed Beast Ball', 'Tailed Beast Chakra Arms', 'Tailed Beast Full Charge', 'Tailed Beast Telepathy'], 'natureType': ['Boil Release', 'Fire Release', 'Water Release'], 'personal': {'kekkeiGenkai': 'Boil Release', 'classification': 'Tailed Beast', 'jinchūriki': ['Han', 'Naruto Uzumaki'], 'affiliation': 'Iwagakure'}, 'voiceActors': {'japanese': 'Mie Sonozaki', 'english': 'Mary Elizabeth McGlynn'}}, {'id': 711, 'name': 'Kurama', 'images': [], 'debut': {'manga': 'Naruto Chapter #1', 'anime': 'Naruto Episode #1', 'novel': 'Naruto: Innocent Heart, Demonic Blood', 'movie': 'Naruto the Movie: Ninja Clash in the Land of Snow', 'game': 'Naruto: Konoha Ninpōchō', 'ova': 'Naruto Shippūden: UNSG anime cutscenes', 'appearsIn': 'Anime, Manga, Novel, Game, Movie'}, 'family': {'creator': 'Hagoromo Ōtsutsuki', 'sibling': 'Gyūki'}, 'jutsu': ['The Springtime of Youth wiki has an article about this topic:', 'Nine-Tails'], 'natureType': ['Fire Release  (Anime only)', 'Wind Release  (Anime only)'], 'personal': {'species': 'Kitsune', 'status': 'Deceased', 'classification': ['Tailed Beast', 'Sensor Type', 'Sage'], 'jinchūriki': ['Mito Uzumaki', 'Kushina Uzumaki', 'Minato Namikaze (Yin half)', 'Naruto Uzumaki', 'Black Zetsu (Yin half)', 'Obito Uchiha (Yin half)'], 'affiliation': ['Konohagakure', 'Allied Shinobi Forces'], 'titles': ['九喇嘛Kurama', 'nine-tails(九尾,Kyūbi)', 'nine-tailedDemonFox(九尾の妖狐,KyūbiNoYōko,EnglishTv:Nine-tailedFox)', 'monsterFox(化け狐', 'バケ狐,Bakegitsune)']}, 'uniqueTraits': ['Detects negative emotions'], 'voiceActors': {'japanese': 'Tesshō Genda', 'english': 'Paul St. Peter'}}, {'id': 771, 'name': 'Matatabi', 'images': ['https://static.wikia.nocookie.net/naruto/images/a/a7/Matatabi.png'], 'debut': {'manga': 'Naruto Chapter #313', 'anime': 'Naruto Shippūden Episode #72', 'novel': 'The Last: Naruto the Movie', 'movie': 'The Last: Naruto the Movie', 'game': 'Naruto Shippūden: Ninja Destiny 3', 'appearsIn': 'Anime, Manga, Novel, Game, Movie'}, 'family': {'creator': 'Hagoromo Ōtsutsuki', 'sibling': 'Kurama'}, 'jutsu': ['<a href=\"/wiki/File:Nibi_mural.png\" title=\"File:Nibi mural.png\"><img alt=\"\" src=\"https://static.wikia.nocookie.net/naruto/images/0/0a/Nibi_mural.png/revision/latest/scale-to-width-down/180?cb=20210805003640\" decoding=\"async\" loading=\"lazy\" width=\"180\" height=\"101\" class=\"thumbimage\" data-image-name=\"Nibi mural.png\" data-image-key=\"Nibi_mural.png\" data-src=\"https://static.wikia.nocookie.net/naruto/images/0/0a/Nibi_mural.png/revision/latest/scale-to-width-down/180?cb=20210805003640\" /></a> \\t \\t\\t \\t\\t \\t\\t \\t\\t\\tMatatabi\\'s wall mural inside the Falls of Truth.'], 'natureType': ['Fire Release'], 'personal': {'species': 'Bakeneko', 'classification': 'Tailed Beast', 'jinchūriki': ['Yugito Nii', 'Naruto Uzumaki'], 'affiliation': 'Kumogakure'}, 'uniqueTraits': ['Produce blue flames'], 'voiceActors': {'japanese': 'Ryōko Shiraishi', 'english': 'Cristina Vee'}}, {'id': 1009, 'name': 'Saiken', 'images': ['https://static.wikia.nocookie.net/naruto/images/5/58/Saiken.png'], 'debut': {'manga': 'Naruto Chapter #467', 'anime': 'Naruto Shippūden Episode #151', 'novel': 'The Last: Naruto the Movie', 'movie': 'The Last: Naruto the Movie', 'game': 'Naruto Shippūden: Ultimate Ninja Storm 3', 'appearsIn': 'Anime, Manga, Novel, Game, Movie'}, 'family': {'creator': 'Hagoromo Ōtsutsuki', 'sibling': 'Kurama'}, 'jutsu': ['Chakra Transfer Technique', 'Leech Gap', 'Soap Bubble Ninjutsu (Anime only)', 'Tailed Beast Ball', 'Tailed Beast Full Charge', 'Tailed Beast Telepathy', 'Water Release: Starch Syrup Capturing Field', 'Wisdom Wolf Decay'], 'natureType': ['Water Release'], 'personal': {'species': 'Slug', 'classification': 'Tailed Beast', 'jinchūriki': ['Utakata', 'Naruto Uzumaki'], 'affiliation': 'Kirigakure'}, 'uniqueTraits': ['Secretes corrosive alkali'], 'voiceActors': {'japanese': 'Miyu Irino', 'english': 'Todd Haberkorn'}}, {'id': 1127, 'name': 'Shukaku', 'images': ['https://static.wikia.nocookie.net/naruto/images/9/99/Shukaku.png'], 'debut': {'manga': 'Naruto Chapter #134', 'anime': 'Naruto Episode #78', 'novel': 'The Last: Naruto the Movie', 'movie': 'The Last: Naruto the Movie', 'game': 'Naruto: Ultimate Ninja', 'ova': 'Naruto x UT', 'appearsIn': 'Anime, Manga, Novel, Game, Movie'}, 'family': {'creator': 'Hagoromo Ōtsutsuki', 'sibling': 'Kurama'}, 'jutsu': ['Chakra Transfer Technique', 'Desert Layered Imperial Funeral Seal', 'Tailed Beast Ball', 'Tailed Beast Full Charge', 'Tailed Beast Shockwave (Anime only)', 'Tailed Beast Telepathy', 'Wind Release: Drilling Air Bullet', 'Wind Release: Sand Buckshot'], 'natureType': ['Magnet Release', 'Wind Release', 'Earth Release'], 'personal': {'species': 'Tanuki', 'kekkeiGenkai': 'Magnet Release', 'classification': 'Tailed Beast', 'jinchūriki': ['Bunpuku', 'Gaara', 'Obito Uchiha', 'Naruto Uzumaki'], 'affiliation': 'Sunagakure'}, 'tools': ['Sand'], 'uniqueTraits': ['Manipulates sand', 'Influences its sleeping jinchūriki', 'Natural cursed seal markings'], 'voiceActors': {'japanese': 'Hiroshi Iwasaki', 'english': ['Kirk Thornton', \"Liam O'Brien   (Video games)\"]}}, {'id': 1134, 'name': 'Son Gokū', 'images': ['https://static.wikia.nocookie.net/naruto/images/5/5e/Son_Goku.png'], 'debut': {'manga': 'Naruto Chapter #467', 'anime': 'Naruto Shippūden Episode #165', 'novel': 'The Last: Naruto the Movie', 'movie': 'The Last: Naruto the Movie', 'game': 'Naruto Shippūden: Ultimate Ninja Storm 3', 'appearsIn': 'Anime, Manga, Novel, Game, Movie'}, 'family': {'creator': 'Hagoromo Ōtsutsuki', 'sibling': 'Kurama'}, 'jutsu': ['Chakra Transfer Technique', 'Flower–Fruit Mountain', 'Monkey Flame Arson', 'Tailed Beast Ball', 'Tailed Beast Full Charge', 'Tailed Beast Telepathy'], 'natureType': ['Lava Release', 'Fire Release', 'Earth Release'], 'personal': {'species': 'Monkey', 'kekkeiGenkai': 'Lava Release', 'classification': ['Tailed Beast', 'Sage'], 'jinchūriki': ['Rōshi', 'Naruto Uzumaki'], 'affiliation': 'Iwagakure'}, 'voiceActors': {'japanese': 'Hiroki Yasumoto', 'english': 'John Eric Bentley'}}], 'currentPage': 1, 'pageSize': 20, 'total': 10}\n"
     ]
    }
   ],
   "source": [
    "import requests\n",
    "import pandas as pd\n",
    "\n",
    "\n",
    "url = \"https://dattebayo-api.onrender.com/tailed-beasts\"\n",
    "\n",
    "response = requests.get(url)\n",
    "\n",
    "if response.status_code == 200:\n",
    "    naruto_beasts_data = response.json()\n",
    "    print(naruto_beasts_data)"
   ]
  },
  {
   "cell_type": "code",
   "execution_count": 18,
   "metadata": {},
   "outputs": [],
   "source": [
    "tailed_beasts = naruto_beasts_data[\"tailed-beasts\"]\n",
    "\n",
    "names = []\n",
    "ids = []"
   ]
  },
  {
   "cell_type": "code",
   "execution_count": 19,
   "metadata": {},
   "outputs": [],
   "source": [
    "for tailed_beast in tailed_beasts:\n",
    "    names.append(tailed_beast.get(\"name\", \"N/A\"))\n",
    "    ids.append(tailed_beast.get(\"id\", \"N/A\"))"
   ]
  },
  {
   "cell_type": "code",
   "execution_count": 20,
   "metadata": {},
   "outputs": [
    {
     "data": {
      "text/html": [
       "<div>\n",
       "<style scoped>\n",
       "    .dataframe tbody tr th:only-of-type {\n",
       "        vertical-align: middle;\n",
       "    }\n",
       "\n",
       "    .dataframe tbody tr th {\n",
       "        vertical-align: top;\n",
       "    }\n",
       "\n",
       "    .dataframe thead th {\n",
       "        text-align: right;\n",
       "    }\n",
       "</style>\n",
       "<table border=\"1\" class=\"dataframe\">\n",
       "  <thead>\n",
       "    <tr style=\"text-align: right;\">\n",
       "      <th></th>\n",
       "      <th>id</th>\n",
       "      <th>name</th>\n",
       "    </tr>\n",
       "  </thead>\n",
       "  <tbody>\n",
       "    <tr>\n",
       "      <th>0</th>\n",
       "      <td>1</td>\n",
       "      <td>Ten-Tails</td>\n",
       "    </tr>\n",
       "    <tr>\n",
       "      <th>1</th>\n",
       "      <td>153</td>\n",
       "      <td>Chōmei</td>\n",
       "    </tr>\n",
       "    <tr>\n",
       "      <th>2</th>\n",
       "      <td>345</td>\n",
       "      <td>Gyūki</td>\n",
       "    </tr>\n",
       "    <tr>\n",
       "      <th>3</th>\n",
       "      <td>480</td>\n",
       "      <td>Isobu</td>\n",
       "    </tr>\n",
       "    <tr>\n",
       "      <th>4</th>\n",
       "      <td>669</td>\n",
       "      <td>Kokuō</td>\n",
       "    </tr>\n",
       "    <tr>\n",
       "      <th>5</th>\n",
       "      <td>711</td>\n",
       "      <td>Kurama</td>\n",
       "    </tr>\n",
       "    <tr>\n",
       "      <th>6</th>\n",
       "      <td>771</td>\n",
       "      <td>Matatabi</td>\n",
       "    </tr>\n",
       "    <tr>\n",
       "      <th>7</th>\n",
       "      <td>1009</td>\n",
       "      <td>Saiken</td>\n",
       "    </tr>\n",
       "    <tr>\n",
       "      <th>8</th>\n",
       "      <td>1127</td>\n",
       "      <td>Shukaku</td>\n",
       "    </tr>\n",
       "    <tr>\n",
       "      <th>9</th>\n",
       "      <td>1134</td>\n",
       "      <td>Son Gokū</td>\n",
       "    </tr>\n",
       "  </tbody>\n",
       "</table>\n",
       "</div>"
      ],
      "text/plain": [
       "     id       name\n",
       "0     1  Ten-Tails\n",
       "1   153     Chōmei\n",
       "2   345      Gyūki\n",
       "3   480      Isobu\n",
       "4   669      Kokuō\n",
       "5   711     Kurama\n",
       "6   771   Matatabi\n",
       "7  1009     Saiken\n",
       "8  1127    Shukaku\n",
       "9  1134   Son Gokū"
      ]
     },
     "execution_count": 20,
     "metadata": {},
     "output_type": "execute_result"
    }
   ],
   "source": [
    "df_tailedBeasts = pd.DataFrame({\n",
    "    \"id\": ids,\n",
    "    \"name\": names\n",
    "})\n",
    "\n",
    "df_tailedBeasts"
   ]
  }
 ],
 "metadata": {
  "kernelspec": {
   "display_name": "Python 3",
   "language": "python",
   "name": "python3"
  },
  "language_info": {
   "codemirror_mode": {
    "name": "ipython",
    "version": 3
   },
   "file_extension": ".py",
   "mimetype": "text/x-python",
   "name": "python",
   "nbconvert_exporter": "python",
   "pygments_lexer": "ipython3",
   "version": "3.8.10"
  }
 },
 "nbformat": 4,
 "nbformat_minor": 2
}
